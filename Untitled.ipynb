{
 "cells": [
  {
   "cell_type": "code",
   "execution_count": 12,
   "id": "4165ae85",
   "metadata": {},
   "outputs": [],
   "source": [
    "import spacy"
   ]
  },
  {
   "cell_type": "code",
   "execution_count": 15,
   "id": "2a2b98d6",
   "metadata": {
    "scrolled": true
   },
   "outputs": [
    {
     "output_type": "stream",
     "name": "stdout",
     "text": [
      "('14', 'DATE')\n"
     ]
    }
   ],
   "source": [
    "nlp = spacy.load('en_core_web_sm')\n",
    "doc = nlp(\"Do I have any meetings on 14, may?\")\n",
    "for ent in doc.ents:\n",
    "    print((ent.text, ent.label_))"
   ]
  },
  {
   "cell_type": "code",
   "execution_count": 4,
   "metadata": {},
   "outputs": [
    {
     "output_type": "stream",
     "name": "stdout",
     "text": [
      "Google ORG\nMountain View GPE\nCalifornia GPE\n109.65 billion US dollars MONEY\n"
     ]
    }
   ],
   "source": [
    "my_string = \"Google has its headquarters in Mountain View, California having revenue amounted to 109.65 billion US dollars\"\n",
    "doc = nlp(my_string)\n",
    "for ent in doc.ents:\n",
    "    print(ent.text, ent.label_)"
   ]
  },
  {
   "cell_type": "code",
   "execution_count": 5,
   "metadata": {},
   "outputs": [
    {
     "output_type": "stream",
     "name": "stdout",
     "text": [
      "Whwn [is]\nis []\nmy [meeting, is]\nnext [meeting, is]\nmeeting [is]\n? [is]\n"
     ]
    }
   ],
   "source": [
    "from spacy import displacy\n",
    "\n",
    "my_string = \"Whwn is my next meeting?\"\n",
    "doc = nlp(my_string)\n",
    "for token in doc:\n",
    "    print(token.text, list(token.ancestors))"
   ]
  },
  {
   "cell_type": "code",
   "execution_count": 6,
   "metadata": {},
   "outputs": [
    {
     "output_type": "stream",
     "name": "stdout",
     "text": [
      "similar\n",
      "<ipython-input-6-1de387d7fad1>:4: UserWarning: [W007] The model you're using has no word vectors loaded, so the result of the Doc.similarity method will be based on the tagger, parser and NER, which may not give useful similarity judgements. This may happen if you're using one of the small models, e.g. `en_core_web_sm`, which don't ship with word vectors and only use context-sensitive tensors. You can always add your own word vectors, or use one of the larger models instead if available.\n",
      "  if nlp(str1).similarity(nlp(str2)) > .7:\n"
     ]
    }
   ],
   "source": [
    "str1 = \"schedule for today\"\n",
    "str2 = \"my schedule for today?\"\n",
    "\n",
    "if nlp(str1).similarity(nlp(str2)) > .7:\n",
    "    print(\"similar\")"
   ]
  },
  {
   "cell_type": "code",
   "execution_count": 7,
   "metadata": {},
   "outputs": [
    {
     "output_type": "stream",
     "name": "stderr",
     "text": [
      "<ipython-input-7-df5ab02ae117>:3: UserWarning: [W007] The model you're using has no word vectors loaded, so the result of the Doc.similarity method will be based on the tagger, parser and NER, which may not give useful similarity judgements. This may happen if you're using one of the small models, e.g. `en_core_web_sm`, which don't ship with word vectors and only use context-sensitive tensors. You can always add your own word vectors, or use one of the larger models instead if available.\n  GoT_str1.similarity(GoT_str2)\n"
     ]
    },
    {
     "output_type": "execute_result",
     "data": {
      "text/plain": [
       "0.6088719826846752"
      ]
     },
     "metadata": {},
     "execution_count": 7
    }
   ],
   "source": [
    "GoT_str1 = nlp(u\"When will next season of Game of Thrones be releasing?\")\n",
    "GoT_str2 = nlp(u\"Game of Thrones next season release date?\")\n",
    "GoT_str1.similarity(GoT_str2)"
   ]
  }
 ],
 "metadata": {
  "kernelspec": {
   "name": "python3",
   "display_name": "Python 3.8.0 64-bit ('env': venv)"
  },
  "language_info": {
   "codemirror_mode": {
    "name": "ipython",
    "version": 3
   },
   "file_extension": ".py",
   "mimetype": "text/x-python",
   "name": "python",
   "nbconvert_exporter": "python",
   "pygments_lexer": "ipython3",
   "version": "3.8.0"
  },
  "interpreter": {
   "hash": "de8c232919f77c6a09da3269b815765e4e0bd2b1207d94f7cbc41d6e7f715c1f"
  }
 },
 "nbformat": 4,
 "nbformat_minor": 5
}